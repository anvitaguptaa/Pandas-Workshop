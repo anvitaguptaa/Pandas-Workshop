{
 "cells": [
  {
   "cell_type": "code",
   "execution_count": 1,
   "id": "348f65b6-4a01-469b-8fe7-097d6ae9a3d7",
   "metadata": {},
   "outputs": [],
   "source": [
    "import pandas as pd"
   ]
  },
  {
   "cell_type": "code",
   "execution_count": 2,
   "id": "d3686a31",
   "metadata": {
    "scrolled": true
   },
   "outputs": [
    {
     "name": "stdout",
     "output_type": "stream",
     "text": [
      "  team  points  assists\n",
      "A    A       5       11\n",
      "B    A       7        8\n",
      "C    A       7       10\n",
      "D    A       9        6\n",
      "E    B      12        6\n",
      "F    B       9        5\n",
      "G    B       9        9\n",
      "H    B       4       12\n"
     ]
    }
   ],
   "source": [
    "## ------ .LOC VS .ILOC ------ ##\n",
    "\n",
    "data = {'team': ['A', 'A', 'A', 'A', 'B', 'B', 'B', 'B'],\n",
    "        'points': [5, 7, 7, 9, 12, 9, 9, 4],\n",
    "        'assists': [11, 8, 10, 6, 6, 5, 9, 12]}\n",
    "\n",
    "df = pd.DataFrame(data, index=['A', 'B', 'C', 'D', 'E', 'F', 'G', 'H'])\n",
    "\n",
    "print(df)"
   ]
  },
  {
   "cell_type": "code",
   "execution_count": 3,
   "id": "3c5f0aae",
   "metadata": {},
   "outputs": [
    {
     "data": {
      "text/html": [
       "<div>\n",
       "<style scoped>\n",
       "    .dataframe tbody tr th:only-of-type {\n",
       "        vertical-align: middle;\n",
       "    }\n",
       "\n",
       "    .dataframe tbody tr th {\n",
       "        vertical-align: top;\n",
       "    }\n",
       "\n",
       "    .dataframe thead th {\n",
       "        text-align: right;\n",
       "    }\n",
       "</style>\n",
       "<table border=\"1\" class=\"dataframe\">\n",
       "  <thead>\n",
       "    <tr style=\"text-align: right;\">\n",
       "      <th></th>\n",
       "      <th>team</th>\n",
       "      <th>points</th>\n",
       "      <th>assists</th>\n",
       "    </tr>\n",
       "  </thead>\n",
       "  <tbody>\n",
       "    <tr>\n",
       "      <th>E</th>\n",
       "      <td>B</td>\n",
       "      <td>12</td>\n",
       "      <td>6</td>\n",
       "    </tr>\n",
       "    <tr>\n",
       "      <th>F</th>\n",
       "      <td>B</td>\n",
       "      <td>9</td>\n",
       "      <td>5</td>\n",
       "    </tr>\n",
       "  </tbody>\n",
       "</table>\n",
       "</div>"
      ],
      "text/plain": [
       "  team  points  assists\n",
       "E    B      12        6\n",
       "F    B       9        5"
      ]
     },
     "execution_count": 3,
     "metadata": {},
     "output_type": "execute_result"
    }
   ],
   "source": [
    "df.loc[['E', 'F']]"
   ]
  },
  {
   "cell_type": "code",
   "execution_count": 4,
   "id": "a3e30821",
   "metadata": {},
   "outputs": [
    {
     "data": {
      "text/html": [
       "<div>\n",
       "<style scoped>\n",
       "    .dataframe tbody tr th:only-of-type {\n",
       "        vertical-align: middle;\n",
       "    }\n",
       "\n",
       "    .dataframe tbody tr th {\n",
       "        vertical-align: top;\n",
       "    }\n",
       "\n",
       "    .dataframe thead th {\n",
       "        text-align: right;\n",
       "    }\n",
       "</style>\n",
       "<table border=\"1\" class=\"dataframe\">\n",
       "  <thead>\n",
       "    <tr style=\"text-align: right;\">\n",
       "      <th></th>\n",
       "      <th>team</th>\n",
       "      <th>assists</th>\n",
       "    </tr>\n",
       "  </thead>\n",
       "  <tbody>\n",
       "    <tr>\n",
       "      <th>E</th>\n",
       "      <td>B</td>\n",
       "      <td>6</td>\n",
       "    </tr>\n",
       "    <tr>\n",
       "      <th>F</th>\n",
       "      <td>B</td>\n",
       "      <td>5</td>\n",
       "    </tr>\n",
       "  </tbody>\n",
       "</table>\n",
       "</div>"
      ],
      "text/plain": [
       "  team  assists\n",
       "E    B        6\n",
       "F    B        5"
      ]
     },
     "execution_count": 4,
     "metadata": {},
     "output_type": "execute_result"
    }
   ],
   "source": [
    "df.loc[['E', 'F'], ['team', 'assists']]"
   ]
  },
  {
   "cell_type": "code",
   "execution_count": 5,
   "id": "b76733b6",
   "metadata": {},
   "outputs": [
    {
     "data": {
      "text/html": [
       "<div>\n",
       "<style scoped>\n",
       "    .dataframe tbody tr th:only-of-type {\n",
       "        vertical-align: middle;\n",
       "    }\n",
       "\n",
       "    .dataframe tbody tr th {\n",
       "        vertical-align: top;\n",
       "    }\n",
       "\n",
       "    .dataframe thead th {\n",
       "        text-align: right;\n",
       "    }\n",
       "</style>\n",
       "<table border=\"1\" class=\"dataframe\">\n",
       "  <thead>\n",
       "    <tr style=\"text-align: right;\">\n",
       "      <th></th>\n",
       "      <th>team</th>\n",
       "      <th>points</th>\n",
       "      <th>assists</th>\n",
       "    </tr>\n",
       "  </thead>\n",
       "  <tbody>\n",
       "    <tr>\n",
       "      <th>E</th>\n",
       "      <td>B</td>\n",
       "      <td>12</td>\n",
       "      <td>6</td>\n",
       "    </tr>\n",
       "    <tr>\n",
       "      <th>F</th>\n",
       "      <td>B</td>\n",
       "      <td>9</td>\n",
       "      <td>5</td>\n",
       "    </tr>\n",
       "  </tbody>\n",
       "</table>\n",
       "</div>"
      ],
      "text/plain": [
       "  team  points  assists\n",
       "E    B      12        6\n",
       "F    B       9        5"
      ]
     },
     "execution_count": 5,
     "metadata": {},
     "output_type": "execute_result"
    }
   ],
   "source": [
    "df.iloc[4:6]"
   ]
  },
  {
   "cell_type": "code",
   "execution_count": 6,
   "id": "3a251573",
   "metadata": {},
   "outputs": [
    {
     "data": {
      "text/html": [
       "<div>\n",
       "<style scoped>\n",
       "    .dataframe tbody tr th:only-of-type {\n",
       "        vertical-align: middle;\n",
       "    }\n",
       "\n",
       "    .dataframe tbody tr th {\n",
       "        vertical-align: top;\n",
       "    }\n",
       "\n",
       "    .dataframe thead th {\n",
       "        text-align: right;\n",
       "    }\n",
       "</style>\n",
       "<table border=\"1\" class=\"dataframe\">\n",
       "  <thead>\n",
       "    <tr style=\"text-align: right;\">\n",
       "      <th></th>\n",
       "      <th>team</th>\n",
       "      <th>points</th>\n",
       "    </tr>\n",
       "  </thead>\n",
       "  <tbody>\n",
       "    <tr>\n",
       "      <th>E</th>\n",
       "      <td>B</td>\n",
       "      <td>12</td>\n",
       "    </tr>\n",
       "    <tr>\n",
       "      <th>F</th>\n",
       "      <td>B</td>\n",
       "      <td>9</td>\n",
       "    </tr>\n",
       "  </tbody>\n",
       "</table>\n",
       "</div>"
      ],
      "text/plain": [
       "  team  points\n",
       "E    B      12\n",
       "F    B       9"
      ]
     },
     "execution_count": 6,
     "metadata": {},
     "output_type": "execute_result"
    }
   ],
   "source": [
    "df.iloc[4:6, 0:2]"
   ]
  },
  {
   "cell_type": "code",
   "execution_count": 7,
   "id": "f062046a-c668-4727-b1e3-c6aa5966f937",
   "metadata": {},
   "outputs": [
    {
     "name": "stdout",
     "output_type": "stream",
     "text": [
      "60\n"
     ]
    }
   ],
   "source": [
    "## ------ READING IN A CSV FILE ------ ##\n",
    "\n",
    "# Check max rows\n",
    "print(pd.options.display.max_rows) "
   ]
  },
  {
   "cell_type": "code",
   "execution_count": 8,
   "id": "9dde8109-1fec-47fc-852b-41db367486dc",
   "metadata": {},
   "outputs": [
    {
     "name": "stdout",
     "output_type": "stream",
     "text": [
      "9999\n"
     ]
    }
   ],
   "source": [
    "# Change value of max rows\n",
    "pd.options.display.max_rows = 9999\n",
    "print(pd.options.display.max_rows) "
   ]
  },
  {
   "cell_type": "code",
   "execution_count": 9,
   "id": "da8f8647-58f9-40f7-a23f-b236b04765b3",
   "metadata": {},
   "outputs": [
    {
     "name": "stdout",
     "output_type": "stream",
     "text": [
      "     Duration  Pulse  Maxpulse  Calories\n",
      "0          60    NaN     130.0     409.1\n",
      "1          60  117.0     145.0     479.0\n",
      "2          60  103.0       NaN     340.0\n",
      "3          45  109.0     175.0     282.4\n",
      "4          45    NaN     148.0     406.0\n",
      "..        ...    ...       ...       ...\n",
      "164        60  105.0     140.0     290.8\n",
      "165        60  110.0     145.0     300.0\n",
      "166        60  115.0     145.0     310.2\n",
      "167        75  120.0     150.0     320.4\n",
      "168        75  125.0     150.0     330.4\n",
      "\n",
      "[169 rows x 4 columns]\n"
     ]
    }
   ],
   "source": [
    "pd.options.display.max_rows = 60\n",
    "\n",
    "# Read in CSV as dataframe \n",
    "df = pd.read_csv('data.csv')\n",
    "print(df)"
   ]
  },
  {
   "cell_type": "code",
   "execution_count": 10,
   "id": "80b2cac5",
   "metadata": {},
   "outputs": [
    {
     "name": "stdout",
     "output_type": "stream",
     "text": [
      "     Duration  Pulse  Maxpulse  Calories\n",
      "0          60    NaN     130.0     409.1\n",
      "1          60  117.0     145.0     479.0\n",
      "2          60  103.0       NaN     340.0\n",
      "3          45  109.0     175.0     282.4\n",
      "4          45    NaN     148.0     406.0\n",
      "5          60  102.0     127.0       NaN\n",
      "6          60  110.0     136.0     374.0\n",
      "7          45  104.0     134.0     253.3\n",
      "8          30  109.0     133.0     195.1\n",
      "9          60   98.0     124.0     269.0\n",
      "10         60  103.0     147.0     329.3\n",
      "11         60  100.0     120.0     250.7\n",
      "12         60  106.0     128.0     345.3\n",
      "13         60  104.0     132.0     379.3\n",
      "14         60   98.0     123.0     275.0\n",
      "15         60   98.0     120.0     215.2\n",
      "16         60  100.0     120.0     300.0\n",
      "17         45   90.0     112.0       NaN\n",
      "18         60  103.0     123.0     323.0\n",
      "19         45   97.0     125.0     243.0\n",
      "20         60  108.0     131.0     364.2\n",
      "21         45  100.0     119.0     282.0\n",
      "22         60  130.0     101.0     300.0\n",
      "23         45  105.0     132.0     246.0\n",
      "24         60  102.0     126.0     334.5\n",
      "25         60  100.0     120.0     250.0\n",
      "26         60   92.0     118.0     241.0\n",
      "27         60  103.0     132.0       NaN\n",
      "28         60  100.0     132.0     280.0\n",
      "29         60  102.0     129.0     380.3\n",
      "30         60   92.0     115.0     243.0\n",
      "31         45   90.0     112.0     180.1\n",
      "32         60  101.0     124.0     299.0\n",
      "33         60   93.0     113.0     223.0\n",
      "34         60  107.0     136.0     361.0\n",
      "35         60  114.0     140.0     415.0\n",
      "36         60  102.0     127.0     300.0\n",
      "37         60  100.0     120.0     300.0\n",
      "38         60  100.0     120.0     300.0\n",
      "39         45  104.0     129.0     266.0\n",
      "40         45   90.0     112.0     180.1\n",
      "41         60   98.0     126.0     286.0\n",
      "42         60  100.0     122.0     329.4\n",
      "43         60  111.0     138.0     400.0\n",
      "44         60  111.0     131.0     397.0\n",
      "45         60   99.0     119.0     273.0\n",
      "46         60  109.0     153.0     387.6\n",
      "47         45  111.0     136.0     300.0\n",
      "48         45  108.0     129.0     298.0\n",
      "49         60  111.0     139.0     397.6\n",
      "50         60  107.0     136.0     380.2\n",
      "51         80  123.0     146.0     643.1\n",
      "52         60  106.0     130.0     263.0\n",
      "53         60  118.0     151.0     486.0\n",
      "54         30  136.0     175.0     238.0\n",
      "55         60  121.0     146.0     450.7\n",
      "56         60  118.0     121.0     413.0\n",
      "57         45  115.0     144.0     305.0\n",
      "58         20  153.0     172.0     226.4\n",
      "59         45  123.0     152.0     321.0\n",
      "60        210  108.0     160.0    1376.0\n",
      "61        160  110.0     137.0    1034.4\n",
      "62        160  109.0     135.0     853.0\n",
      "63         45  118.0     141.0     341.0\n",
      "64         20  110.0     130.0     131.4\n",
      "65        180   90.0     130.0     800.4\n",
      "66        150  105.0     135.0     873.4\n",
      "67        150  107.0     130.0     816.0\n",
      "68         20  106.0     136.0     110.4\n",
      "69        300  108.0     143.0    1500.2\n",
      "70        150   97.0     129.0    1115.0\n",
      "71         60  109.0     153.0     387.6\n",
      "72         90  100.0     127.0     700.0\n",
      "73        150   97.0     127.0     953.2\n",
      "74         45  114.0     146.0     304.0\n",
      "75         90   98.0     125.0     563.2\n",
      "76         45  105.0     134.0     251.0\n",
      "77         45  110.0     141.0     300.0\n",
      "78        120  100.0     130.0     500.4\n",
      "79        270  100.0     131.0    1729.0\n",
      "80         30  159.0     182.0     319.2\n",
      "81         45  149.0     169.0     344.0\n",
      "82         30  103.0     139.0     151.1\n",
      "83        120  100.0     130.0     500.0\n",
      "84         45  100.0     120.0     225.3\n",
      "85         30  151.0     170.0     300.0\n",
      "86         45  102.0     136.0     234.0\n",
      "87        120  100.0     157.0    1000.1\n",
      "88         45  129.0     103.0     242.0\n",
      "89         20   83.0     107.0      50.3\n",
      "90        180  101.0     127.0     600.1\n",
      "91         45  107.0     137.0       NaN\n",
      "92         30   90.0     107.0     105.3\n",
      "93         15   80.0     100.0      50.5\n",
      "94         20  150.0     171.0     127.4\n",
      "95         20  151.0     168.0     229.4\n",
      "96         30   95.0     128.0     128.2\n",
      "97         25  152.0     168.0     244.2\n",
      "98         30  109.0     131.0     188.2\n",
      "99         90   93.0     124.0     604.1\n",
      "100        20   95.0     112.0      77.7\n",
      "101        90   90.0     110.0     500.0\n",
      "102        90   90.0     100.0     500.0\n",
      "103        90   90.0     100.0     500.4\n",
      "104        30   92.0     108.0      92.7\n",
      "105        30   93.0     128.0     124.0\n",
      "106       180   90.0     120.0     800.3\n",
      "107        30   90.0     120.0      86.2\n",
      "108        90   90.0     120.0     500.3\n",
      "109       210  137.0     184.0    1860.4\n",
      "110        60  102.0     124.0     325.2\n",
      "111        45  107.0     124.0     275.0\n",
      "112        15  124.0     139.0     124.2\n",
      "113        45  100.0     120.0     225.3\n",
      "114        60  108.0     131.0     367.6\n",
      "115        60  108.0     151.0     351.7\n",
      "116        60  116.0     141.0     443.0\n",
      "117        60   97.0     122.0     277.4\n",
      "118        60  105.0     125.0       NaN\n",
      "119        60  103.0     124.0     332.7\n",
      "120        30  112.0     137.0     193.9\n",
      "121        45  100.0     120.0     100.7\n",
      "122        60  119.0     169.0     336.7\n",
      "123        60  107.0     127.0     344.9\n",
      "124        60  111.0     151.0     368.5\n",
      "125        60   98.0     122.0     271.0\n",
      "126        60   97.0     124.0     275.3\n",
      "127        60  109.0     127.0     382.0\n",
      "128        90   99.0     125.0     466.4\n",
      "129        60  114.0     151.0     384.0\n",
      "130        60  104.0     134.0     342.5\n",
      "131        60  107.0     138.0     357.5\n",
      "132        60  103.0     133.0     335.0\n",
      "133        60  106.0     132.0     327.5\n",
      "134        60  103.0     136.0     339.0\n",
      "135        20  136.0     156.0     189.0\n",
      "136        45  117.0     143.0     317.7\n",
      "137        45  115.0     137.0     318.0\n",
      "138        45  113.0     138.0     308.0\n",
      "139        20  141.0     162.0     222.4\n",
      "140        60  108.0     135.0     390.0\n",
      "141        60   97.0     127.0       NaN\n",
      "142        45  100.0     120.0     250.4\n",
      "143        45  122.0     149.0     335.4\n",
      "144        60  136.0     170.0     470.2\n",
      "145        45  106.0     126.0     270.8\n",
      "146        60  107.0     136.0     400.0\n",
      "147        60  112.0     146.0     361.9\n",
      "148        30  103.0     127.0     185.0\n",
      "149        60  110.0     150.0     409.4\n",
      "150        60  106.0     134.0     343.0\n",
      "151        60  109.0     129.0     353.2\n",
      "152        60  109.0     138.0     374.0\n",
      "153        30  150.0     167.0     275.8\n",
      "154        60  105.0     128.0     328.0\n",
      "155        60  111.0     151.0     368.5\n",
      "156        60   97.0     131.0     270.4\n",
      "157        60  100.0     120.0     270.4\n",
      "158        60  114.0     150.0     382.8\n",
      "159        30   80.0     120.0     240.9\n",
      "160        30   85.0     120.0     250.4\n",
      "161        45   90.0     130.0     260.4\n",
      "162        45   95.0     130.0     270.0\n",
      "163        45  100.0     140.0     280.9\n",
      "164        60  105.0     140.0     290.8\n",
      "165        60  110.0     145.0     300.0\n",
      "166        60  115.0     145.0     310.2\n",
      "167        75  120.0     150.0     320.4\n",
      "168        75  125.0     150.0     330.4\n"
     ]
    }
   ],
   "source": [
    "# Print entire dataframe\n",
    "print(df.to_string())"
   ]
  },
  {
   "cell_type": "code",
   "execution_count": 11,
   "id": "de10309b",
   "metadata": {},
   "outputs": [
    {
     "name": "stdout",
     "output_type": "stream",
     "text": [
      "     Duration  Pulse  Maxpulse  Calories\n",
      "0          60    110       130     409.1\n",
      "1          60    117       145     479.0\n",
      "2          60    103       135     340.0\n",
      "3          45    109       175     282.4\n",
      "4          45    117       148     406.0\n",
      "..        ...    ...       ...       ...\n",
      "164        60    105       140     290.8\n",
      "165        60    110       145     300.4\n",
      "166        60    115       145     310.2\n",
      "167        75    120       150     320.4\n",
      "168        75    125       150     330.4\n",
      "\n",
      "[169 rows x 4 columns]\n"
     ]
    }
   ],
   "source": [
    "## ------ READING IN A JSON FILE ------ ##\n",
    "\n",
    "# Read in JSON as dataframe\n",
    "df = pd.read_json('data.json')\n",
    "\n",
    "print(df)"
   ]
  },
  {
   "cell_type": "code",
   "execution_count": 12,
   "id": "b2e1db0a",
   "metadata": {
    "scrolled": true
   },
   "outputs": [
    {
     "name": "stdout",
     "output_type": "stream",
     "text": [
      "   Duration  Pulse  Maxpulse  Calories\n",
      "0        60    NaN     130.0     409.1\n",
      "1        60  117.0     145.0     479.0\n",
      "2        60  103.0       NaN     340.0\n",
      "3        45  109.0     175.0     282.4\n",
      "4        45    NaN     148.0     406.0\n",
      "5        60  102.0     127.0       NaN\n",
      "6        60  110.0     136.0     374.0\n",
      "7        45  104.0     134.0     253.3\n",
      "8        30  109.0     133.0     195.1\n",
      "9        60   98.0     124.0     269.0\n"
     ]
    }
   ],
   "source": [
    "## ------ ANALYZING DATA ------ ##\n",
    "df = pd.read_csv('data.csv')\n",
    "\n",
    "# Head method\n",
    "print(df.head(10))"
   ]
  },
  {
   "cell_type": "code",
   "execution_count": 13,
   "id": "ce61f595",
   "metadata": {},
   "outputs": [
    {
     "name": "stdout",
     "output_type": "stream",
     "text": [
      "     Duration  Pulse  Maxpulse  Calories\n",
      "159        30   80.0     120.0     240.9\n",
      "160        30   85.0     120.0     250.4\n",
      "161        45   90.0     130.0     260.4\n",
      "162        45   95.0     130.0     270.0\n",
      "163        45  100.0     140.0     280.9\n",
      "164        60  105.0     140.0     290.8\n",
      "165        60  110.0     145.0     300.0\n",
      "166        60  115.0     145.0     310.2\n",
      "167        75  120.0     150.0     320.4\n",
      "168        75  125.0     150.0     330.4\n"
     ]
    }
   ],
   "source": [
    "# Tail method\n",
    "print(df.tail(10))"
   ]
  },
  {
   "cell_type": "code",
   "execution_count": 14,
   "id": "24280efb",
   "metadata": {},
   "outputs": [
    {
     "name": "stdout",
     "output_type": "stream",
     "text": [
      "   Duration  Pulse  Maxpulse  Calories\n",
      "0        60    NaN     130.0     409.1\n",
      "1        60  117.0     145.0     479.0\n",
      "2        60  103.0       NaN     340.0\n",
      "3        45  109.0     175.0     282.4\n",
      "4        45    NaN     148.0     406.0\n"
     ]
    }
   ],
   "source": [
    "print(df.head(5))"
   ]
  },
  {
   "cell_type": "code",
   "execution_count": 15,
   "id": "e608e800",
   "metadata": {},
   "outputs": [
    {
     "name": "stdout",
     "output_type": "stream",
     "text": [
      "   Duration  Pulse  Maxpulse  Calories\n",
      "0        60    NaN     130.0     409.1\n",
      "1        60  117.0     145.0     479.0\n",
      "2        60  103.0       NaN     340.0\n",
      "3        45  109.0     175.0     282.4\n",
      "4        45    NaN     148.0     406.0\n"
     ]
    }
   ],
   "source": [
    "print(df.head())"
   ]
  },
  {
   "cell_type": "code",
   "execution_count": 16,
   "id": "911fe7fb",
   "metadata": {},
   "outputs": [
    {
     "name": "stdout",
     "output_type": "stream",
     "text": [
      "<class 'pandas.core.frame.DataFrame'>\n",
      "RangeIndex: 169 entries, 0 to 168\n",
      "Data columns (total 4 columns):\n",
      " #   Column    Non-Null Count  Dtype  \n",
      "---  ------    --------------  -----  \n",
      " 0   Duration  169 non-null    int64  \n",
      " 1   Pulse     167 non-null    float64\n",
      " 2   Maxpulse  168 non-null    float64\n",
      " 3   Calories  163 non-null    float64\n",
      "dtypes: float64(3), int64(1)\n",
      "memory usage: 5.4 KB\n",
      "None\n"
     ]
    }
   ],
   "source": [
    "# Dataframe Info\n",
    "print(df.info()) "
   ]
  },
  {
   "cell_type": "code",
   "execution_count": 17,
   "id": "63d1cde4",
   "metadata": {},
   "outputs": [],
   "source": [
    "## ------ CLEANING DATA ------ ##\n",
    "\n",
    "df = pd.read_csv('iris.csv')"
   ]
  },
  {
   "cell_type": "code",
   "execution_count": 18,
   "id": "48c452d1",
   "metadata": {
    "scrolled": true
   },
   "outputs": [
    {
     "name": "stdout",
     "output_type": "stream",
     "text": [
      "   Id  SepalLengthCm  SepalWidthCm  PetalLengthCm  PetalWidthCm      Species\n",
      "0   1            NaN           3.5            1.4           0.2  Iris-setosa\n",
      "1   2            NaN           3.0            1.4           0.2          NaN\n",
      "2   2            NaN           3.0            1.4           0.2          NaN\n",
      "3   3            4.7           3.2            NaN           0.2  Iris-setosa\n",
      "4   3            NaN           3.2            1.3           0.2  Iris-setosa\n",
      "5   4            NaN           NaN            1.5           0.2  Iris-setosa\n",
      "6   4            NaN           NaN            1.5           0.2  Iris-setosa\n",
      "7   5            5.0           3.6            NaN           0.2  Iris-setosa\n",
      "8   6            NaN           3.9            NaN           0.4  Iris-setosa\n",
      "9   7            4.6           3.4            NaN           0.3  Iris-setosa\n"
     ]
    }
   ],
   "source": [
    "print(df.head(10))"
   ]
  },
  {
   "cell_type": "code",
   "execution_count": 19,
   "id": "957f3417",
   "metadata": {},
   "outputs": [
    {
     "name": "stdout",
     "output_type": "stream",
     "text": [
      "        Id  SepalLengthCm  SepalWidthCm  PetalLengthCm  PetalWidthCm  Species\n",
      "0    False           True         False          False         False    False\n",
      "1    False           True         False          False         False     True\n",
      "2    False           True         False          False         False     True\n",
      "3    False          False         False           True         False    False\n",
      "4    False           True         False          False         False    False\n",
      "..     ...            ...           ...            ...           ...      ...\n",
      "150  False          False         False          False         False    False\n",
      "151  False          False         False          False         False    False\n",
      "152  False          False         False          False         False    False\n",
      "153  False          False         False          False         False    False\n",
      "154  False          False         False          False         False    False\n",
      "\n",
      "[155 rows x 6 columns]\n"
     ]
    }
   ],
   "source": [
    "# Check for null values\n",
    "print(df.isnull())"
   ]
  },
  {
   "cell_type": "code",
   "execution_count": 20,
   "id": "532c1f88",
   "metadata": {},
   "outputs": [
    {
     "name": "stdout",
     "output_type": "stream",
     "text": [
      "        Id  SepalLengthCm  SepalWidthCm  PetalLengthCm  PetalWidthCm  Species\n",
      "0    False           True         False          False         False    False\n",
      "1    False           True         False          False         False     True\n",
      "2    False           True         False          False         False     True\n",
      "3    False          False         False           True         False    False\n",
      "4    False           True         False          False         False    False\n",
      "..     ...            ...           ...            ...           ...      ...\n",
      "150  False          False         False          False         False    False\n",
      "151  False          False         False          False         False    False\n",
      "152  False          False         False          False         False    False\n",
      "153  False          False         False          False         False    False\n",
      "154  False          False         False          False         False    False\n",
      "\n",
      "[155 rows x 6 columns]\n"
     ]
    }
   ],
   "source": [
    "print(df.isna())"
   ]
  },
  {
   "cell_type": "code",
   "execution_count": 21,
   "id": "10c8d7cc",
   "metadata": {},
   "outputs": [
    {
     "name": "stdout",
     "output_type": "stream",
     "text": [
      "Id                0\n",
      "SepalLengthCm    16\n",
      "SepalWidthCm      4\n",
      "PetalLengthCm     7\n",
      "PetalWidthCm      4\n",
      "Species           7\n",
      "dtype: int64\n"
     ]
    }
   ],
   "source": [
    "print(df.isnull().sum())"
   ]
  },
  {
   "cell_type": "code",
   "execution_count": 22,
   "id": "c343e974",
   "metadata": {},
   "outputs": [
    {
     "name": "stdout",
     "output_type": "stream",
     "text": [
      "    Id  SepalLengthCm  SepalWidthCm  PetalLengthCm  PetalWidthCm      Species\n",
      "11   9            4.4           2.9            1.4           0.2  Iris-setosa\n",
      "12  10            4.9           3.1            1.5           0.1  Iris-setosa\n",
      "13  11            5.4           3.7            1.5           0.2  Iris-setosa\n",
      "14  11            5.4           3.7            1.5           0.2  Iris-setosa\n",
      "21  18            5.1           3.5            1.4           0.3  Iris-setosa\n",
      "22  19            5.7           3.8            1.7           0.3  Iris-setosa\n",
      "23  20            5.1           3.8            1.5           0.3  Iris-setosa\n",
      "25  22            5.1           3.7            1.5           0.4  Iris-setosa\n",
      "26  23            4.6           3.6            1.0           0.2  Iris-setosa\n",
      "27  24            5.1           3.3            1.7           0.5  Iris-setosa\n"
     ]
    }
   ],
   "source": [
    "# Remove empty cells (new dataframe)\n",
    "new_df = df.dropna()\n",
    "\n",
    "print(new_df.head(10))"
   ]
  },
  {
   "cell_type": "code",
   "execution_count": 23,
   "id": "69305c14",
   "metadata": {},
   "outputs": [
    {
     "name": "stdout",
     "output_type": "stream",
     "text": [
      "    Id  SepalLengthCm  SepalWidthCm  PetalLengthCm  PetalWidthCm      Species\n",
      "11   9            4.4           2.9            1.4           0.2  Iris-setosa\n",
      "12  10            4.9           3.1            1.5           0.1  Iris-setosa\n",
      "13  11            5.4           3.7            1.5           0.2  Iris-setosa\n",
      "14  11            5.4           3.7            1.5           0.2  Iris-setosa\n",
      "21  18            5.1           3.5            1.4           0.3  Iris-setosa\n",
      "22  19            5.7           3.8            1.7           0.3  Iris-setosa\n",
      "23  20            5.1           3.8            1.5           0.3  Iris-setosa\n",
      "25  22            5.1           3.7            1.5           0.4  Iris-setosa\n",
      "26  23            4.6           3.6            1.0           0.2  Iris-setosa\n",
      "27  24            5.1           3.3            1.7           0.5  Iris-setosa\n"
     ]
    }
   ],
   "source": [
    "# Remove all rows containing NULL values (existing dataframe)\n",
    "df.dropna(inplace = True)\n",
    "\n",
    "print(df.head(10))"
   ]
  },
  {
   "cell_type": "code",
   "execution_count": 24,
   "id": "7fe7ec01",
   "metadata": {},
   "outputs": [
    {
     "name": "stdout",
     "output_type": "stream",
     "text": [
      "    Id  SepalLengthCm  SepalWidthCm  PetalLengthCm  PetalWidthCm      Species\n",
      "3    3            4.7           3.2            NaN           0.2  Iris-setosa\n",
      "7    5            5.0           3.6            NaN           0.2  Iris-setosa\n",
      "9    7            4.6           3.4            NaN           0.3  Iris-setosa\n",
      "11   9            4.4           2.9            1.4           0.2  Iris-setosa\n",
      "12  10            4.9           3.1            1.5           0.1  Iris-setosa\n",
      "13  11            5.4           3.7            1.5           0.2  Iris-setosa\n",
      "14  11            5.4           3.7            1.5           0.2  Iris-setosa\n",
      "17  14            4.3           3.0            1.1           NaN  Iris-setosa\n",
      "18  15            5.8           NaN            1.2           0.2  Iris-setosa\n",
      "20  17            5.4           NaN            1.3           0.4          NaN\n"
     ]
    }
   ],
   "source": [
    "df = pd.read_csv('iris.csv')\n",
    "\n",
    "df.dropna(subset=[\"SepalLengthCm\"], inplace = True)\n",
    "\n",
    "print(df.head(10))"
   ]
  },
  {
   "cell_type": "code",
   "execution_count": 25,
   "id": "eb52b0ef",
   "metadata": {},
   "outputs": [
    {
     "name": "stdout",
     "output_type": "stream",
     "text": [
      "    Id  SepalLengthCm SepalWidthCm PetalLengthCm PetalWidthCm      Species\n",
      "3    3            4.7          3.2           lol          0.2  Iris-setosa\n",
      "7    5            5.0          3.6           lol          0.2  Iris-setosa\n",
      "9    7            4.6          3.4           lol          0.3  Iris-setosa\n",
      "11   9            4.4          2.9           1.4          0.2  Iris-setosa\n",
      "12  10            4.9          3.1           1.5          0.1  Iris-setosa\n",
      "13  11            5.4          3.7           1.5          0.2  Iris-setosa\n",
      "14  11            5.4          3.7           1.5          0.2  Iris-setosa\n",
      "17  14            4.3          3.0           1.1          lol  Iris-setosa\n",
      "18  15            5.8          lol           1.2          0.2  Iris-setosa\n",
      "20  17            5.4          lol           1.3          0.4          lol\n"
     ]
    }
   ],
   "source": [
    "# Replace empty values\n",
    "df.fillna(\"lol\", inplace = True)\n",
    "\n",
    "print(df.head(10))"
   ]
  },
  {
   "cell_type": "code",
   "execution_count": 26,
   "id": "b826089f",
   "metadata": {},
   "outputs": [
    {
     "name": "stdout",
     "output_type": "stream",
     "text": [
      "   Id SepalLengthCm  SepalWidthCm  PetalLengthCm  PetalWidthCm      Species\n",
      "0   1           lol           3.5            1.4           0.2  Iris-setosa\n",
      "1   2           lol           3.0            1.4           0.2          NaN\n",
      "2   2           lol           3.0            1.4           0.2          NaN\n",
      "3   3           4.7           3.2            NaN           0.2  Iris-setosa\n",
      "4   3           lol           3.2            1.3           0.2  Iris-setosa\n",
      "5   4           lol           NaN            1.5           0.2  Iris-setosa\n",
      "6   4           lol           NaN            1.5           0.2  Iris-setosa\n",
      "7   5           5.0           3.6            NaN           0.2  Iris-setosa\n",
      "8   6           lol           3.9            NaN           0.4  Iris-setosa\n",
      "9   7           4.6           3.4            NaN           0.3  Iris-setosa\n"
     ]
    }
   ],
   "source": [
    "df = pd.read_csv('iris.csv')\n",
    "\n",
    "df[\"SepalLengthCm\"].fillna(\"lol\", inplace = True)\n",
    "\n",
    "print(df.head(10))"
   ]
  },
  {
   "cell_type": "code",
   "execution_count": 27,
   "id": "7d1c6fe9",
   "metadata": {},
   "outputs": [
    {
     "name": "stdout",
     "output_type": "stream",
     "text": [
      "MEAN IS:  5.869064748201438\n"
     ]
    }
   ],
   "source": [
    "df = pd.read_csv('iris.csv')\n",
    "\n",
    "m = df[\"SepalLengthCm\"].mean()\n",
    "\n",
    "print(\"MEAN IS: \", m)"
   ]
  },
  {
   "cell_type": "code",
   "execution_count": 28,
   "id": "a885f2ab",
   "metadata": {},
   "outputs": [
    {
     "name": "stdout",
     "output_type": "stream",
     "text": [
      "   Id  SepalLengthCm  SepalWidthCm  PetalLengthCm  PetalWidthCm      Species\n",
      "0   1       5.869065           3.5            1.4           0.2  Iris-setosa\n",
      "1   2       5.869065           3.0            1.4           0.2          NaN\n",
      "2   2       5.869065           3.0            1.4           0.2          NaN\n",
      "3   3       4.700000           3.2            NaN           0.2  Iris-setosa\n",
      "4   3       5.869065           3.2            1.3           0.2  Iris-setosa\n",
      "5   4       5.869065           NaN            1.5           0.2  Iris-setosa\n",
      "6   4       5.869065           NaN            1.5           0.2  Iris-setosa\n",
      "7   5       5.000000           3.6            NaN           0.2  Iris-setosa\n",
      "8   6       5.869065           3.9            NaN           0.4  Iris-setosa\n",
      "9   7       4.600000           3.4            NaN           0.3  Iris-setosa\n"
     ]
    }
   ],
   "source": [
    "df[\"SepalLengthCm\"].fillna(m, inplace = True)\n",
    "\n",
    "print(df.head(10))"
   ]
  },
  {
   "cell_type": "code",
   "execution_count": 29,
   "id": "fc38adc5",
   "metadata": {},
   "outputs": [
    {
     "name": "stdout",
     "output_type": "stream",
     "text": [
      "   Id  SepalLengthCm  SepalWidthCm PetalLengthCm  PetalWidthCm      Species\n",
      "0   1       5.869065           3.5     TOO SMALL           0.2  Iris-setosa\n",
      "1   2       5.869065           3.0     TOO SMALL           0.2          NaN\n",
      "2   2       5.869065           3.0     TOO SMALL           0.2          NaN\n",
      "3   3       4.700000           3.2           NaN           0.2  Iris-setosa\n",
      "4   3       5.869065           3.2     TOO SMALL           0.2  Iris-setosa\n",
      "5   4       5.869065           NaN     TOO SMALL           0.2  Iris-setosa\n",
      "6   4       5.869065           NaN     TOO SMALL           0.2  Iris-setosa\n",
      "7   5       5.000000           3.6           NaN           0.2  Iris-setosa\n",
      "8   6       5.869065           3.9           NaN           0.4  Iris-setosa\n",
      "9   7       4.600000           3.4           NaN           0.3  Iris-setosa\n"
     ]
    }
   ],
   "source": [
    "# Remove/Replace rows with wrong data\n",
    "\n",
    "for x in df.index:\n",
    "  if df.loc[x, \"PetalLengthCm\"] < 2:\n",
    "    df.loc[x, \"PetalLengthCm\"] = \"TOO SMALL\"\n",
    "    \n",
    "print(df.head(10))"
   ]
  },
  {
   "cell_type": "code",
   "execution_count": 30,
   "id": "955f2279",
   "metadata": {},
   "outputs": [
    {
     "name": "stdout",
     "output_type": "stream",
     "text": [
      "    Id  SepalLengthCm  SepalWidthCm PetalLengthCm  PetalWidthCm  \\\n",
      "3    3       4.700000           3.2           NaN           0.2   \n",
      "7    5       5.000000           3.6           NaN           0.2   \n",
      "8    6       5.869065           3.9           NaN           0.4   \n",
      "9    7       4.600000           3.4           NaN           0.3   \n",
      "54  51       7.000000           3.2           4.7           1.4   \n",
      "55  52       6.400000           3.2           4.5           NaN   \n",
      "56  53       6.900000           3.1           4.9           1.5   \n",
      "57  54       5.500000           2.3           4.0           1.3   \n",
      "58  55       6.500000           2.8           4.6           1.5   \n",
      "59  56       5.700000           2.8           4.5           1.3   \n",
      "\n",
      "            Species  \n",
      "3       Iris-setosa  \n",
      "7       Iris-setosa  \n",
      "8       Iris-setosa  \n",
      "9       Iris-setosa  \n",
      "54  Iris-versicolor  \n",
      "55  Iris-versicolor  \n",
      "56  Iris-versicolor  \n",
      "57  Iris-versicolor  \n",
      "58  Iris-versicolor  \n",
      "59  Iris-versicolor  \n"
     ]
    }
   ],
   "source": [
    "for x in df.index:\n",
    "  if df.loc[x, \"PetalLengthCm\"] == \"TOO SMALL\":\n",
    "    df.drop(x, inplace = True)\n",
    "\n",
    "print(df.head(10))"
   ]
  },
  {
   "cell_type": "code",
   "execution_count": 31,
   "id": "4d7b9407",
   "metadata": {},
   "outputs": [
    {
     "name": "stdout",
     "output_type": "stream",
     "text": [
      "0    False\n",
      "1    False\n",
      "2     True\n",
      "3    False\n",
      "4    False\n",
      "5    False\n",
      "6     True\n",
      "7    False\n",
      "8    False\n",
      "9    False\n",
      "dtype: bool\n"
     ]
    }
   ],
   "source": [
    "df = pd.read_csv('iris.csv')\n",
    "\n",
    "# Check duplicates\n",
    "print(df.duplicated().head(10))"
   ]
  },
  {
   "cell_type": "code",
   "execution_count": 32,
   "id": "6eb92f8d",
   "metadata": {},
   "outputs": [
    {
     "name": "stdout",
     "output_type": "stream",
     "text": [
      "    Id  SepalLengthCm  SepalWidthCm  PetalLengthCm  PetalWidthCm      Species\n",
      "0    1            NaN           3.5            1.4           0.2  Iris-setosa\n",
      "1    2            NaN           3.0            1.4           0.2          NaN\n",
      "3    3            4.7           3.2            NaN           0.2  Iris-setosa\n",
      "4    3            NaN           3.2            1.3           0.2  Iris-setosa\n",
      "5    4            NaN           NaN            1.5           0.2  Iris-setosa\n",
      "7    5            5.0           3.6            NaN           0.2  Iris-setosa\n",
      "8    6            NaN           3.9            NaN           0.4  Iris-setosa\n",
      "9    7            4.6           3.4            NaN           0.3  Iris-setosa\n",
      "10   8            NaN           3.4            1.5           0.2  Iris-setosa\n",
      "11   9            4.4           2.9            1.4           0.2  Iris-setosa\n"
     ]
    }
   ],
   "source": [
    "# Remove duplicate lines\n",
    "df.drop_duplicates(inplace = True)\n",
    "\n",
    "print(df.head(10))"
   ]
  },
  {
   "cell_type": "code",
   "execution_count": 33,
   "id": "7ccca227",
   "metadata": {},
   "outputs": [],
   "source": [
    "import matplotlib.pyplot as plt"
   ]
  },
  {
   "cell_type": "code",
   "execution_count": 34,
   "id": "5082ae92",
   "metadata": {},
   "outputs": [
    {
     "data": {
      "image/png": "[encoded data removed]",
      "text/plain": [
       "<Figure size 640x480 with 1 Axes>"
      ]
     },
     "metadata": {},
     "output_type": "display_data"
    }
   ],
   "source": [
    "df = pd.read_csv('iris.csv')\n",
    "\n",
    "df.plot(kind = 'scatter', x = 'SepalLengthCm', y = 'PetalLengthCm')\n",
    "plt.show()"
   ]
  },
  {
   "cell_type": "code",
   "execution_count": 35,
   "id": "33a6f736",
   "metadata": {},
   "outputs": [
    {
     "data": {
      "image/png": "[encoded data removed]",
      "text/plain": [
       "<Figure size 640x480 with 1 Axes>"
      ]
     },
     "metadata": {},
     "output_type": "display_data"
    }
   ],
   "source": [
    "df[\"SepalWidthCm\"].plot(kind = 'hist')\n",
    "plt.show()"
   ]
  }
 ],
 "metadata": {
  "kernelspec": {
   "display_name": "Python 3 (ipykernel)",
   "language": "python",
   "name": "python3"
  },
  "language_info": {
   "codemirror_mode": {
    "name": "ipython",
    "version": 3
   },
   "file_extension": ".py",
   "mimetype": "text/x-python",
   "name": "python",
   "nbconvert_exporter": "python",
   "pygments_lexer": "ipython3",
   "version": "3.10.6"
  }
 },
 "nbformat": 4,
 "nbformat_minor": 5
}
